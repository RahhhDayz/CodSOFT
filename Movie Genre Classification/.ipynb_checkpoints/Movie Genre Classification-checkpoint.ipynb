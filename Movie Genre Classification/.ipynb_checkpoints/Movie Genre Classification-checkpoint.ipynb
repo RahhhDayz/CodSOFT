{
 "cells": [
  {
   "cell_type": "code",
   "execution_count": 2,
   "id": "8091525b",
   "metadata": {},
   "outputs": [
    {
     "name": "stderr",
     "output_type": "stream",
     "text": [
      "[nltk_data] Downloading package stopwords to\n",
      "[nltk_data]     /Users/rahulsharma/nltk_data...\n",
      "[nltk_data]   Unzipping corpora/stopwords.zip.\n"
     ]
    }
   ],
   "source": [
    "import numpy as np\n",
    "import pandas as pd\n",
    "import matplotlib.pyplot as plt\n",
    "import seaborn as sns\n",
    "from wordcloud import WordCloud\n",
    "import nltk\n",
    "import re\n",
    "nltk.download('stopwords')\n",
    "from nltk.corpus import stopwords\n",
    "from nltk.stem.porter import PorterStemmer"
   ]
  },
  {
   "cell_type": "code",
   "execution_count": 4,
   "id": "f58cb349",
   "metadata": {},
   "outputs": [],
   "source": [
    "df = pd.read_csv('/Users/rahulsharma/GitHub/Movies-Genre-Classification/kaggle_movie_train.csv')"
   ]
  },
  {
   "cell_type": "code",
   "execution_count": 5,
   "id": "20161331",
   "metadata": {},
   "outputs": [
    {
     "data": {
      "text/plain": [
       "Index(['id', 'text', 'genre'], dtype='object')"
      ]
     },
     "execution_count": 5,
     "metadata": {},
     "output_type": "execute_result"
    }
   ],
   "source": [
    "df.columns"
   ]
  },
  {
   "cell_type": "code",
   "execution_count": 7,
   "id": "1e00a6ec",
   "metadata": {},
   "outputs": [
    {
     "data": {
      "text/plain": [
       "(22579, 3)"
      ]
     },
     "execution_count": 7,
     "metadata": {},
     "output_type": "execute_result"
    }
   ],
   "source": [
    "df.shape"
   ]
  },
  {
   "cell_type": "code",
   "execution_count": 8,
   "id": "a12f3ed6",
   "metadata": {},
   "outputs": [
    {
     "data": {
      "text/html": [
       "<div>\n",
       "<style scoped>\n",
       "    .dataframe tbody tr th:only-of-type {\n",
       "        vertical-align: middle;\n",
       "    }\n",
       "\n",
       "    .dataframe tbody tr th {\n",
       "        vertical-align: top;\n",
       "    }\n",
       "\n",
       "    .dataframe thead th {\n",
       "        text-align: right;\n",
       "    }\n",
       "</style>\n",
       "<table border=\"1\" class=\"dataframe\">\n",
       "  <thead>\n",
       "    <tr style=\"text-align: right;\">\n",
       "      <th></th>\n",
       "      <th>id</th>\n",
       "      <th>text</th>\n",
       "      <th>genre</th>\n",
       "    </tr>\n",
       "  </thead>\n",
       "  <tbody>\n",
       "    <tr>\n",
       "      <th>0</th>\n",
       "      <td>0</td>\n",
       "      <td>eady dead, maybe even wishing he was. INT. 2ND...</td>\n",
       "      <td>thriller</td>\n",
       "    </tr>\n",
       "    <tr>\n",
       "      <th>1</th>\n",
       "      <td>2</td>\n",
       "      <td>t, summa cum laude and all. And I'm about to l...</td>\n",
       "      <td>comedy</td>\n",
       "    </tr>\n",
       "    <tr>\n",
       "      <th>2</th>\n",
       "      <td>3</td>\n",
       "      <td>up Come, I have a surprise.... She takes him ...</td>\n",
       "      <td>drama</td>\n",
       "    </tr>\n",
       "    <tr>\n",
       "      <th>3</th>\n",
       "      <td>4</td>\n",
       "      <td>ded by the two detectives. INT. JEFF'S APARTME...</td>\n",
       "      <td>thriller</td>\n",
       "    </tr>\n",
       "    <tr>\n",
       "      <th>4</th>\n",
       "      <td>5</td>\n",
       "      <td>nd dismounts, just as the other children reach...</td>\n",
       "      <td>drama</td>\n",
       "    </tr>\n",
       "    <tr>\n",
       "      <th>5</th>\n",
       "      <td>6</td>\n",
       "      <td>breadth of the bluff. Gabe pulls out his ancie...</td>\n",
       "      <td>thriller</td>\n",
       "    </tr>\n",
       "    <tr>\n",
       "      <th>6</th>\n",
       "      <td>7</td>\n",
       "      <td>uilding. A MAN in pajamas runs out into the ra...</td>\n",
       "      <td>thriller</td>\n",
       "    </tr>\n",
       "    <tr>\n",
       "      <th>7</th>\n",
       "      <td>9</td>\n",
       "      <td>ELLES AND RITA HAYWORTH Just disgustingly rich...</td>\n",
       "      <td>drama</td>\n",
       "    </tr>\n",
       "    <tr>\n",
       "      <th>8</th>\n",
       "      <td>10</td>\n",
       "      <td>Memphis goes back into the garage, Budgy cack...</td>\n",
       "      <td>thriller</td>\n",
       "    </tr>\n",
       "    <tr>\n",
       "      <th>9</th>\n",
       "      <td>11</td>\n",
       "      <td>e reels as the world spins. Sweat pours off hi...</td>\n",
       "      <td>action</td>\n",
       "    </tr>\n",
       "  </tbody>\n",
       "</table>\n",
       "</div>"
      ],
      "text/plain": [
       "   id                                               text     genre\n",
       "0   0  eady dead, maybe even wishing he was. INT. 2ND...  thriller\n",
       "1   2  t, summa cum laude and all. And I'm about to l...    comedy\n",
       "2   3   up Come, I have a surprise.... She takes him ...     drama\n",
       "3   4  ded by the two detectives. INT. JEFF'S APARTME...  thriller\n",
       "4   5  nd dismounts, just as the other children reach...     drama\n",
       "5   6  breadth of the bluff. Gabe pulls out his ancie...  thriller\n",
       "6   7  uilding. A MAN in pajamas runs out into the ra...  thriller\n",
       "7   9  ELLES AND RITA HAYWORTH Just disgustingly rich...     drama\n",
       "8  10   Memphis goes back into the garage, Budgy cack...  thriller\n",
       "9  11  e reels as the world spins. Sweat pours off hi...    action"
      ]
     },
     "execution_count": 8,
     "metadata": {},
     "output_type": "execute_result"
    }
   ],
   "source": [
    "df.head(10)"
   ]
  },
  {
   "cell_type": "code",
   "execution_count": 9,
   "id": "a0b58510",
   "metadata": {},
   "outputs": [
    {
     "data": {
      "image/png": "[encoded data removed]",
      "text/plain": [
       "<Figure size 1200x1200 with 1 Axes>"
      ]
     },
     "metadata": {},
     "output_type": "display_data"
    }
   ],
   "source": [
    "plt.figure(figsize=(12,12))\n",
    "sns.countplot(x='genre', data=df)\n",
    "plt.xlabel('Movie Genres')\n",
    "plt.ylabel('Count')\n",
    "plt.title('Genre Plot')\n",
    "plt.show()"
   ]
  },
  {
   "cell_type": "code",
   "execution_count": 10,
   "id": "1c2aa89b",
   "metadata": {},
   "outputs": [
    {
     "data": {
      "text/plain": [
       "['action',\n",
       " 'adventure',\n",
       " 'comedy',\n",
       " 'drama',\n",
       " 'horror',\n",
       " 'other',\n",
       " 'romance',\n",
       " 'sci-fi',\n",
       " 'thriller']"
      ]
     },
     "execution_count": 10,
     "metadata": {},
     "output_type": "execute_result"
    }
   ],
   "source": [
    "movie_genre = list(df['genre'].unique())\n",
    "movie_genre.sort()\n",
    "movie_genre"
   ]
  },
  {
   "cell_type": "code",
   "execution_count": 11,
   "id": "46139db3",
   "metadata": {},
   "outputs": [
    {
     "data": {
      "text/html": [
       "<div>\n",
       "<style scoped>\n",
       "    .dataframe tbody tr th:only-of-type {\n",
       "        vertical-align: middle;\n",
       "    }\n",
       "\n",
       "    .dataframe tbody tr th {\n",
       "        vertical-align: top;\n",
       "    }\n",
       "\n",
       "    .dataframe thead th {\n",
       "        text-align: right;\n",
       "    }\n",
       "</style>\n",
       "<table border=\"1\" class=\"dataframe\">\n",
       "  <thead>\n",
       "    <tr style=\"text-align: right;\">\n",
       "      <th></th>\n",
       "      <th>id</th>\n",
       "      <th>text</th>\n",
       "      <th>genre</th>\n",
       "    </tr>\n",
       "  </thead>\n",
       "  <tbody>\n",
       "    <tr>\n",
       "      <th>0</th>\n",
       "      <td>0</td>\n",
       "      <td>eady dead, maybe even wishing he was. INT. 2ND...</td>\n",
       "      <td>8</td>\n",
       "    </tr>\n",
       "    <tr>\n",
       "      <th>1</th>\n",
       "      <td>2</td>\n",
       "      <td>t, summa cum laude and all. And I'm about to l...</td>\n",
       "      <td>3</td>\n",
       "    </tr>\n",
       "    <tr>\n",
       "      <th>2</th>\n",
       "      <td>3</td>\n",
       "      <td>up Come, I have a surprise.... She takes him ...</td>\n",
       "      <td>4</td>\n",
       "    </tr>\n",
       "    <tr>\n",
       "      <th>3</th>\n",
       "      <td>4</td>\n",
       "      <td>ded by the two detectives. INT. JEFF'S APARTME...</td>\n",
       "      <td>8</td>\n",
       "    </tr>\n",
       "    <tr>\n",
       "      <th>4</th>\n",
       "      <td>5</td>\n",
       "      <td>nd dismounts, just as the other children reach...</td>\n",
       "      <td>4</td>\n",
       "    </tr>\n",
       "    <tr>\n",
       "      <th>5</th>\n",
       "      <td>6</td>\n",
       "      <td>breadth of the bluff. Gabe pulls out his ancie...</td>\n",
       "      <td>8</td>\n",
       "    </tr>\n",
       "    <tr>\n",
       "      <th>6</th>\n",
       "      <td>7</td>\n",
       "      <td>uilding. A MAN in pajamas runs out into the ra...</td>\n",
       "      <td>8</td>\n",
       "    </tr>\n",
       "    <tr>\n",
       "      <th>7</th>\n",
       "      <td>9</td>\n",
       "      <td>ELLES AND RITA HAYWORTH Just disgustingly rich...</td>\n",
       "      <td>4</td>\n",
       "    </tr>\n",
       "    <tr>\n",
       "      <th>8</th>\n",
       "      <td>10</td>\n",
       "      <td>Memphis goes back into the garage, Budgy cack...</td>\n",
       "      <td>8</td>\n",
       "    </tr>\n",
       "    <tr>\n",
       "      <th>9</th>\n",
       "      <td>11</td>\n",
       "      <td>e reels as the world spins. Sweat pours off hi...</td>\n",
       "      <td>1</td>\n",
       "    </tr>\n",
       "  </tbody>\n",
       "</table>\n",
       "</div>"
      ],
      "text/plain": [
       "   id                                               text  genre\n",
       "0   0  eady dead, maybe even wishing he was. INT. 2ND...      8\n",
       "1   2  t, summa cum laude and all. And I'm about to l...      3\n",
       "2   3   up Come, I have a surprise.... She takes him ...      4\n",
       "3   4  ded by the two detectives. INT. JEFF'S APARTME...      8\n",
       "4   5  nd dismounts, just as the other children reach...      4\n",
       "5   6  breadth of the bluff. Gabe pulls out his ancie...      8\n",
       "6   7  uilding. A MAN in pajamas runs out into the ra...      8\n",
       "7   9  ELLES AND RITA HAYWORTH Just disgustingly rich...      4\n",
       "8  10   Memphis goes back into the garage, Budgy cack...      8\n",
       "9  11  e reels as the world spins. Sweat pours off hi...      1"
      ]
     },
     "execution_count": 11,
     "metadata": {},
     "output_type": "execute_result"
    }
   ],
   "source": [
    "genre_mapper = {'other': 0, 'action': 1, 'adventure': 2, 'comedy':3, \n",
    "                'drama':4, 'horror':5, 'romance':6, 'sci-fi':7, 'thriller': 8}\n",
    "df['genre'] = df['genre'].map(genre_mapper)\n",
    "df.head(10)"
   ]
  },
  {
   "cell_type": "code",
   "execution_count": 12,
   "id": "5818307a",
   "metadata": {},
   "outputs": [
    {
     "data": {
      "text/plain": [
       "id       False\n",
       "text     False\n",
       "genre    False\n",
       "dtype: bool"
      ]
     },
     "execution_count": 12,
     "metadata": {},
     "output_type": "execute_result"
    }
   ],
   "source": [
    "df.isna().any()"
   ]
  },
  {
   "cell_type": "code",
   "execution_count": 13,
   "id": "45c0cb30",
   "metadata": {},
   "outputs": [],
   "source": [
    "df.drop('id', axis=1, inplace=True)"
   ]
  },
  {
   "cell_type": "code",
   "execution_count": null,
   "id": "97a70f10",
   "metadata": {},
   "outputs": [],
   "source": [
    "corpus = []\n",
    "ps = PorterStemmer()\n",
    "\n",
    "for i in range(0, df.shape[0]):\n",
    "    dialog = re.sub(pattern='[^a-zA-Z]', repl=' ', string=df['text'][i]) \n",
    "    dialog = dialog.lower() \n",
    "    words = dialog.split() \n",
    "    dialog_words = [word for word in words if word not in set(stopwords.words('english'))] \n",
    "    words = [ps.stem(word) for word in dialog_words] \n",
    "    dialog = ' '.join(words) \n",
    "    corpus.append(dialog) "
   ]
  }
 ],
 "metadata": {
  "kernelspec": {
   "display_name": "Python 3 (ipykernel)",
   "language": "python",
   "name": "python3"
  },
  "language_info": {
   "codemirror_mode": {
    "name": "ipython",
    "version": 3
   },
   "file_extension": ".py",
   "mimetype": "text/x-python",
   "name": "python",
   "nbconvert_exporter": "python",
   "pygments_lexer": "ipython3",
   "version": "3.9.17"
  }
 },
 "nbformat": 4,
 "nbformat_minor": 5
}
